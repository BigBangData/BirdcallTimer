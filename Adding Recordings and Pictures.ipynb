{
 "cells": [
  {
   "cell_type": "markdown",
   "id": "1b8de5e8",
   "metadata": {},
   "source": [
    "# Steps to Add Recordings and Pictures\n",
    "\n",
    "---\n",
    "\n",
    "NOTE: instructions below assume you have downloaded all mp3 files in the `audio/mp3` folder.\n",
    "\n",
    "---\n",
    "\n",
    "*1. For images...*\n",
    "\n",
    "Look for a new species not in `csv/chosen.csv` and search for a good picture in [ebird](https://ebird.org/) (append the species name to:  `https://ebird.org/species/`).\n",
    "\n",
    "Download the picture from the [Macaulay Library](https://macaulaylibrary.org/) and make sure to note the copyright owner and URL.\n",
    "\n",
    "Add a line to `csv/pic_metadata.csv` filling out all the info.\n",
    "\n",
    "Save the picture in `img/ebird/` with its bird species (`ebird_code`) name.\n",
    "\n",
    "Make sure the picture has dimensions 480px (width) by 320px (height).\n",
    "\n",
    "*2. For bird calls...*\n",
    "\n",
    "Find a good recording of the species in `audio/mp3` that is at least 10 seconds long and note the `xc_id`.\n",
    "\n",
    "Check the recording at [xeno-canto](https://xeno-canto.org/) by appending its xeno-canto catalogue number to this main URL.\n",
    "\n",
    "Add a new line to `csv/chosen.csv` with the new bird species `ebird_code` and specific recording `xc_id` (just `code`).\n",
    "\n",
    "*3. Finally*\n",
    "\n",
    "You can do the above steps any number of times. When done adding recordings and images, close all `csv` files and **Run All** cells below, then check the output of the cells to make sure numbers make sense."
   ]
  },
  {
   "cell_type": "code",
   "execution_count": 3,
   "id": "894137f9",
   "metadata": {},
   "outputs": [],
   "source": [
    "import os\n",
    "import subprocess\n",
    "import pandas as pd\n",
    "from PIL import Image"
   ]
  },
  {
   "cell_type": "code",
   "execution_count": 4,
   "id": "456ce1a5",
   "metadata": {},
   "outputs": [
    {
     "name": "stdout",
     "output_type": "stream",
     "text": [
      "There are 73 species and 87 recordings chosen.\n"
     ]
    }
   ],
   "source": [
    "# chosen mp3s\n",
    "chosen_path =  os.path.join(\"csv\", \"chosen.csv\")\n",
    "chosen_df = pd.read_csv(chosen_path)\n",
    "npecies = len(chosen_df['ebird_code'].unique())\n",
    "\n",
    "print(f'There are {npecies} species\\\n",
    " and {len(chosen_df)} recordings chosen.')"
   ]
  },
  {
   "cell_type": "code",
   "execution_count": 5,
   "id": "092ab87f",
   "metadata": {},
   "outputs": [],
   "source": [
    "# wav files and Xcodes in audio/\n",
    "wav_dir = os.path.join(\"audio\", \"wav\")\n",
    "\n",
    "def get_waves():\n",
    "    \n",
    "    subdirs, waves, codes = [], [], []\n",
    "\n",
    "    for subdir in os.listdir(wav_dir):\n",
    "        subdirs.append(subdir)\n",
    "        for i, wav in enumerate(os.listdir(os.path.join(wav_dir, subdir))):\n",
    "            waves.append(os.path.join(wav_dir, subdir, wav))\n",
    "            codes.append(wav.split('.')[0][2:])\n",
    "\n",
    "    print(f'There are {len(subdirs)} bird species\\\n",
    " and {len(waves)} recordings in audio/wav/')\n",
    "    \n",
    "    return subdirs, waves, codes"
   ]
  },
  {
   "cell_type": "code",
   "execution_count": 6,
   "id": "430c44b1",
   "metadata": {},
   "outputs": [
    {
     "name": "stdout",
     "output_type": "stream",
     "text": [
      "There are 71 bird species and 85 recordings in audio/wav/\n"
     ]
    }
   ],
   "source": [
    "# PRE CHECK\n",
    "subdirs, waves, codes = get_waves()"
   ]
  },
  {
   "cell_type": "code",
   "execution_count": 7,
   "id": "1954b06a",
   "metadata": {},
   "outputs": [],
   "source": [
    "# FIX AUDIO\n",
    "# ---------\n",
    "# get outstanding mp3 files and convert to wav files\n",
    "# ASSUMPTIONS:\n",
    "# 1. new ecode (new species) recording\n",
    "# 2. only 1 recording per species (ecode)\n",
    "\n",
    "mp3_dir = os.path.join(\"audio\", \"mp3\")\n",
    "wav_dir = os.path.join(\"audio\", \"wav\")\n",
    "\n",
    "# (assumption 2) only 1 xcode\n",
    "for ecode, xcode in zip(chosen_df['ebird_code'], chosen_df['code']):\n",
    "    \n",
    "    # (assumption 1) new ecode\n",
    "    if ecode not in subdirs:\n",
    "        \n",
    "        mp3_subdir = os.path.join(mp3_dir, ecode)\n",
    "        wav_subdir = os.path.join(wav_dir, ecode)\n",
    "        \n",
    "        try:\n",
    "            os.stat(wav_subdir)\n",
    "        except FileNotFoundError:\n",
    "            os.makedirs(wav_subdir)\n",
    "\n",
    "        mp3 = ''.join([''.join(['XC', str(xcode)]), '.mp3'])\n",
    "        wav = ''.join([''.join(['XC', str(xcode)]), '.wav'])\n",
    "\n",
    "        mp3_filepath = os.path.join(mp3_subdir, mp3)\n",
    "        wav_filepath = os.path.join(wav_subdir, wav)\n",
    "\n",
    "        subprocess.call([\n",
    "            'ffmpeg', '-hide_banner',\n",
    "            '-loglevel', 'quiet',\n",
    "            '-i', mp3_filepath, wav_filepath\n",
    "        ])"
   ]
  },
  {
   "cell_type": "code",
   "execution_count": 8,
   "id": "b911dd42",
   "metadata": {},
   "outputs": [
    {
     "name": "stdout",
     "output_type": "stream",
     "text": [
      "There are 73 bird species and 87 recordings in audio/wav/\n"
     ]
    }
   ],
   "source": [
    "# POST CHECK\n",
    "subdirs, waves, codes = get_waves()"
   ]
  },
  {
   "cell_type": "code",
   "execution_count": 9,
   "id": "11860662",
   "metadata": {},
   "outputs": [],
   "source": [
    "# FIX PICS\n",
    "# --------\n",
    "pic_path = os.path.join(\"img\", \"ebird\")\n",
    "\n",
    "def get_jpgs():\n",
    "    jpgs = pngs = 0\n",
    "    for img in os.listdir(pic_path):\n",
    "        ebird_code, ext = img.split(\".\")\n",
    "        if ext == \"jpg\":\n",
    "            jpgs += 1\n",
    "        elif ext == \"png\":\n",
    "            pngs += 1\n",
    "        else:\n",
    "            pass\n",
    "        \n",
    "    print(f'There are {len(os.listdir(pic_path))} pictures,\\\n",
    " {jpgs} jpg(s) and {pngs} png(s).')"
   ]
  },
  {
   "cell_type": "code",
   "execution_count": 10,
   "id": "fa0cfe9d",
   "metadata": {},
   "outputs": [
    {
     "name": "stdout",
     "output_type": "stream",
     "text": [
      "There are 73 pictures, 2 jpg(s) and 71 png(s).\n"
     ]
    }
   ],
   "source": [
    "get_jpgs()"
   ]
  },
  {
   "cell_type": "code",
   "execution_count": 11,
   "id": "570f08fc",
   "metadata": {},
   "outputs": [],
   "source": [
    "# convert any jpg(s) to png(s) and delete them\n",
    "for img in os.listdir(pic_path):\n",
    "    ebird_code, ext = img.split(\".\")\n",
    "    if ext == \"jpg\":\n",
    "        jpg = os.path.join(pic_path, img)  \n",
    "        image = Image.open(jpg)  \n",
    "        png = os.path.join(pic_path, \".\".join([ebird_code, \"png\"]))\n",
    "        image.save(png)\n",
    "        os.remove(jpg)"
   ]
  },
  {
   "cell_type": "code",
   "execution_count": 12,
   "id": "e44f745e",
   "metadata": {},
   "outputs": [
    {
     "name": "stdout",
     "output_type": "stream",
     "text": [
      "There are 73 pictures, 0 jpg(s) and 73 png(s).\n"
     ]
    }
   ],
   "source": [
    "get_jpgs()"
   ]
  },
  {
   "cell_type": "markdown",
   "id": "e81796db",
   "metadata": {},
   "source": [
    "---"
   ]
  }
 ],
 "metadata": {
  "kernelspec": {
   "display_name": "Python 3",
   "language": "python",
   "name": "python3"
  },
  "language_info": {
   "codemirror_mode": {
    "name": "ipython",
    "version": 3
   },
   "file_extension": ".py",
   "mimetype": "text/x-python",
   "name": "python",
   "nbconvert_exporter": "python",
   "pygments_lexer": "ipython3",
   "version": "3.8.10"
  }
 },
 "nbformat": 4,
 "nbformat_minor": 5
}
